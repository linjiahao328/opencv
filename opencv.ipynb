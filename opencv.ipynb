{
 "cells": [
  {
   "cell_type": "code",
   "execution_count": null,
   "metadata": {},
   "outputs": [],
   "source": [
    "import cv2 as cv     #镜像\n",
    "import numpy as np\n",
    "src = cv.imread(\"coins.jpg\",1)\n",
    "cv.imshow('src',src)\n",
    "srcInfo = src.shape\n",
    "height = srcInfo[0]\n",
    "width = srcInfo[1]\n",
    "deep = srcInfo[2]\n",
    "newSrcInfo = (height*2,width,deep)\n",
    "dst = np.zeros(newSrcInfo,np.uint8)\n",
    "for i in range(0,height):\n",
    "    for j in range(0,width):\n",
    "        dst[i,j] = src[i,j]\n",
    "        dst[height*2-i-1,j]=src[i,j]\n",
    "for i in range(0,width):\n",
    "    dst[height,i] = (0,0,255)\n",
    "cv.imshow(\"dst\",dst)\n",
    "cv.waitKey(0)"
   ]
  },
  {
   "cell_type": "code",
   "execution_count": null,
   "metadata": {},
   "outputs": [],
   "source": []
  },
  {
   "cell_type": "code",
   "execution_count": null,
   "metadata": {},
   "outputs": [],
   "source": [
    "import cv2 as cv\n",
    "import numpy as np\n",
    "src = cv.imread(\"coins.jpg\",1)\n",
    "#dst = cv.cvtColor(src,cv.COLOR_BGR2GRAY)\n",
    "cv.imshow('src',src)\n",
    "srcInfo = src.shape\n",
    "height = srcInfo[0]\n",
    "width = srcInfo[1]\n",
    "deep = srcInfo[2]\n",
    "dst = np.zeros((height,width,3),np.uint8)\n",
    "for i in range(0,height):\n",
    "    for j in range(0,width):\n",
    "        (b,g,r)=src[i,j]\n",
    "        gray = (int(b)+int(g)+int(r))/3\n",
    "        dst[i,j]=np.uint8(gray)\n",
    "cv.imshow('dst',dst)\n",
    "cv.waitKey(0)"
   ]
  },
  {
   "cell_type": "code",
   "execution_count": null,
   "metadata": {},
   "outputs": [],
   "source": []
  },
  {
   "cell_type": "code",
   "execution_count": null,
   "metadata": {},
   "outputs": [],
   "source": [
    "import cv2 as cv\n",
    "import numpy as np\n",
    "src = cv.imread(\"coins.jpg\",1)\n",
    "cv.imshow('src',src)\n",
    "srcInfo = src.shape\n",
    "height = srcInfo[0]\n",
    "width = srcInfo[1]\n",
    "deep = srcInfo[2]\n",
    "dst = cv.cvtColor(src,cv.COLOR_BGR2GRAY)\n",
    "image = np.zeros((height,width,3),np.uint8)\n",
    "for i in range(0,height):\n",
    "    for j in range(0,width):\n",
    "        (b,g,r)= src[i,j]\n",
    "        image[i,j]=(255-b,255-g,255-r)\n",
    "cv.imshow(\"image\",image)\n",
    "cv.waitKey(0)"
   ]
  },
  {
   "cell_type": "code",
   "execution_count": null,
   "metadata": {},
   "outputs": [],
   "source": []
  },
  {
   "cell_type": "code",
   "execution_count": null,
   "metadata": {},
   "outputs": [
    {
     "name": "stdout",
     "output_type": "stream",
     "text": [
      "(348, 500, 3)\n"
     ]
    }
   ],
   "source": [
    "import cv2 as cv  #马赛克\n",
    "import numpy as np\n",
    "src = cv.imread(\"coins.jpg\",1)\n",
    "cv.imshow('src',src)\n",
    "srcInfo = src.shape\n",
    "print(srcInfo)\n",
    "height = srcInfo[0]\n",
    "width = srcInfo[1]\n",
    "deep = srcInfo[2]\n",
    "for m in range(100,300):\n",
    "    for n in range(100,200):\n",
    "        if m%10 == 0 and n%10 == 0:\n",
    "            for i in range(0,10):\n",
    "                for j in range(0,10):\n",
    "                    (b,g,r) = src[m,n]\n",
    "                    src[i+m,j+n]=(b,g,r)\n",
    "cv.imshow('img',src)\n",
    "cv.waitKey(0)"
   ]
  },
  {
   "cell_type": "code",
   "execution_count": null,
   "metadata": {},
   "outputs": [],
   "source": []
  },
  {
   "cell_type": "code",
   "execution_count": null,
   "metadata": {},
   "outputs": [],
   "source": [
    "import cv2 as cv   #毛玻璃\n",
    "import numpy as np\n",
    "import random\n",
    "src = cv.imread(\"coins.jpg\",1)\n",
    "cv.imshow('src',src)\n",
    "srcInfo = src.shape\n",
    "print(srcInfo)\n",
    "height = srcInfo[0]\n",
    "width = srcInfo[1]\n",
    "dst = np.zeros((height,width,3),np.uint8)\n",
    "mn = 3\n",
    "for m in range(0,height-mn):\n",
    "    for n in range(0,width-mn):\n",
    "        index = int(random.random()*3) #随机数0-8\n",
    "        (b,g,r)=src[m+index,n+index]\n",
    "        dst[m,n]=(b,g,r)\n",
    "cv.imshow('img',dst)\n",
    "cv.waitKey(0)"
   ]
  },
  {
   "cell_type": "code",
   "execution_count": null,
   "metadata": {},
   "outputs": [],
   "source": []
  }
 ],
 "metadata": {
  "kernelspec": {
   "display_name": "Python 3",
   "language": "python",
   "name": "python3"
  },
  "language_info": {
   "codemirror_mode": {
    "name": "ipython",
    "version": 3
   },
   "file_extension": ".py",
   "mimetype": "text/x-python",
   "name": "python",
   "nbconvert_exporter": "python",
   "pygments_lexer": "ipython3",
   "version": "3.6.9"
  }
 },
 "nbformat": 4,
 "nbformat_minor": 2
}
